{
 "cells": [
  {
   "cell_type": "code",
   "execution_count": 125,
   "metadata": {},
   "outputs": [],
   "source": [
    "import pymongo\n",
    "import random\n",
    "import warnings\n",
    "warnings.filterwarnings('ignore')\n",
    "\n",
    "\n",
    "# mongodb 접속\n",
    "conn = pymongo.MongoClient(\"localhost\", 27017)\n",
    "# db:books 연동\n",
    "books = conn.books\n",
    "# collection : it_book\n",
    "it_book = books.it_book\n",
    "\n",
    "data = list()\n",
    "for i in range(100):\n",
    "    data.append({\"author\": \"Jungik\", \"publisher\":\"You-tube\", \"ran_num\": random.randint(100,120)})\n",
    "    "
   ]
  },
  {
   "cell_type": "code",
   "execution_count": 126,
   "metadata": {},
   "outputs": [
    {
     "data": {
      "text/plain": [
       "<pymongo.results.InsertManyResult at 0x22f765a2cc0>"
      ]
     },
     "execution_count": 126,
     "metadata": {},
     "output_type": "execute_result"
    }
   ],
   "source": [
    "it_book.insert_many(data)"
   ]
  },
  {
   "cell_type": "code",
   "execution_count": 127,
   "metadata": {
    "scrolled": true
   },
   "outputs": [
    {
     "name": "stdout",
     "output_type": "stream",
     "text": [
      "{'_id': ObjectId('6177ade8da58bebab4511bfc'), 'author': 'Jungik', 'publisher': 'You-tube', 'ran_num': 108}\n",
      "{'_id': ObjectId('6177ade8da58bebab4511bfd'), 'author': 'Jungik', 'publisher': 'You-tube', 'ran_num': 118}\n",
      "{'_id': ObjectId('6177ade8da58bebab4511bfe'), 'author': 'Jungik', 'publisher': 'You-tube', 'ran_num': 106}\n",
      "{'_id': ObjectId('6177ade8da58bebab4511bff'), 'author': 'Jungik', 'publisher': 'You-tube', 'ran_num': 119}\n",
      "{'_id': ObjectId('6177ade8da58bebab4511c00'), 'author': 'Jungik', 'publisher': 'You-tube', 'ran_num': 115}\n",
      "{'_id': ObjectId('6177ade8da58bebab4511c01'), 'author': 'Jungik', 'publisher': 'You-tube', 'ran_num': 113}\n",
      "{'_id': ObjectId('6177ade8da58bebab4511c02'), 'author': 'Jungik', 'publisher': 'You-tube', 'ran_num': 118}\n",
      "{'_id': ObjectId('6177ade8da58bebab4511c03'), 'author': 'Jungik', 'publisher': 'You-tube', 'ran_num': 104}\n",
      "{'_id': ObjectId('6177ade8da58bebab4511c04'), 'author': 'Jungik', 'publisher': 'You-tube', 'ran_num': 114}\n",
      "{'_id': ObjectId('6177ade8da58bebab4511c05'), 'author': 'Jungik', 'publisher': 'You-tube', 'ran_num': 109}\n",
      "{'_id': ObjectId('6177ade8da58bebab4511c06'), 'author': 'Jungik', 'publisher': 'You-tube', 'ran_num': 110}\n",
      "{'_id': ObjectId('6177ade8da58bebab4511c07'), 'author': 'Jungik', 'publisher': 'You-tube', 'ran_num': 109}\n",
      "{'_id': ObjectId('6177ade8da58bebab4511c08'), 'author': 'Jungik', 'publisher': 'You-tube', 'ran_num': 102}\n",
      "{'_id': ObjectId('6177ade8da58bebab4511c09'), 'author': 'Jungik', 'publisher': 'You-tube', 'ran_num': 102}\n",
      "{'_id': ObjectId('6177ade8da58bebab4511c0a'), 'author': 'Jungik', 'publisher': 'You-tube', 'ran_num': 109}\n",
      "{'_id': ObjectId('6177ade8da58bebab4511c0b'), 'author': 'Jungik', 'publisher': 'You-tube', 'ran_num': 114}\n",
      "{'_id': ObjectId('6177ade8da58bebab4511c0c'), 'author': 'Jungik', 'publisher': 'You-tube', 'ran_num': 103}\n",
      "{'_id': ObjectId('6177ade8da58bebab4511c0d'), 'author': 'Jungik', 'publisher': 'You-tube', 'ran_num': 119}\n",
      "{'_id': ObjectId('6177ade8da58bebab4511c0e'), 'author': 'Jungik', 'publisher': 'You-tube', 'ran_num': 112}\n",
      "{'_id': ObjectId('6177ade8da58bebab4511c0f'), 'author': 'Jungik', 'publisher': 'You-tube', 'ran_num': 111}\n",
      "{'_id': ObjectId('6177ade8da58bebab4511c10'), 'author': 'Jungik', 'publisher': 'You-tube', 'ran_num': 105}\n",
      "{'_id': ObjectId('6177ade8da58bebab4511c11'), 'author': 'Jungik', 'publisher': 'You-tube', 'ran_num': 113}\n",
      "{'_id': ObjectId('6177ade8da58bebab4511c12'), 'author': 'Jungik', 'publisher': 'You-tube', 'ran_num': 116}\n",
      "{'_id': ObjectId('6177ade8da58bebab4511c13'), 'author': 'Jungik', 'publisher': 'You-tube', 'ran_num': 110}\n",
      "{'_id': ObjectId('6177ade8da58bebab4511c14'), 'author': 'Jungik', 'publisher': 'You-tube', 'ran_num': 107}\n",
      "{'_id': ObjectId('6177ade8da58bebab4511c15'), 'author': 'Jungik', 'publisher': 'You-tube', 'ran_num': 118}\n",
      "{'_id': ObjectId('6177ade8da58bebab4511c16'), 'author': 'Jungik', 'publisher': 'You-tube', 'ran_num': 119}\n",
      "{'_id': ObjectId('6177ade8da58bebab4511c17'), 'author': 'Jungik', 'publisher': 'You-tube', 'ran_num': 106}\n",
      "{'_id': ObjectId('6177ade8da58bebab4511c18'), 'author': 'Jungik', 'publisher': 'You-tube', 'ran_num': 113}\n",
      "{'_id': ObjectId('6177ade8da58bebab4511c19'), 'author': 'Jungik', 'publisher': 'You-tube', 'ran_num': 102}\n",
      "{'_id': ObjectId('6177ade8da58bebab4511c1a'), 'author': 'Jungik', 'publisher': 'You-tube', 'ran_num': 101}\n",
      "{'_id': ObjectId('6177ade8da58bebab4511c1b'), 'author': 'Jungik', 'publisher': 'You-tube', 'ran_num': 120}\n",
      "{'_id': ObjectId('6177ade8da58bebab4511c1c'), 'author': 'Jungik', 'publisher': 'You-tube', 'ran_num': 114}\n",
      "{'_id': ObjectId('6177ade8da58bebab4511c1d'), 'author': 'Jungik', 'publisher': 'You-tube', 'ran_num': 101}\n",
      "{'_id': ObjectId('6177ade8da58bebab4511c1e'), 'author': 'Jungik', 'publisher': 'You-tube', 'ran_num': 118}\n",
      "{'_id': ObjectId('6177ade8da58bebab4511c1f'), 'author': 'Jungik', 'publisher': 'You-tube', 'ran_num': 102}\n",
      "{'_id': ObjectId('6177ade8da58bebab4511c20'), 'author': 'Jungik', 'publisher': 'You-tube', 'ran_num': 117}\n",
      "{'_id': ObjectId('6177ade8da58bebab4511c21'), 'author': 'Jungik', 'publisher': 'You-tube', 'ran_num': 102}\n",
      "{'_id': ObjectId('6177ade8da58bebab4511c22'), 'author': 'Jungik', 'publisher': 'You-tube', 'ran_num': 110}\n",
      "{'_id': ObjectId('6177ade8da58bebab4511c23'), 'author': 'Jungik', 'publisher': 'You-tube', 'ran_num': 115}\n",
      "{'_id': ObjectId('6177ade8da58bebab4511c24'), 'author': 'Jungik', 'publisher': 'You-tube', 'ran_num': 120}\n",
      "{'_id': ObjectId('6177ade8da58bebab4511c25'), 'author': 'Jungik', 'publisher': 'You-tube', 'ran_num': 103}\n",
      "{'_id': ObjectId('6177ade8da58bebab4511c26'), 'author': 'Jungik', 'publisher': 'You-tube', 'ran_num': 105}\n",
      "{'_id': ObjectId('6177ade8da58bebab4511c27'), 'author': 'Jungik', 'publisher': 'You-tube', 'ran_num': 114}\n",
      "{'_id': ObjectId('6177ade8da58bebab4511c28'), 'author': 'Jungik', 'publisher': 'You-tube', 'ran_num': 110}\n",
      "{'_id': ObjectId('6177ade8da58bebab4511c29'), 'author': 'Jungik', 'publisher': 'You-tube', 'ran_num': 115}\n",
      "{'_id': ObjectId('6177ade8da58bebab4511c2a'), 'author': 'Jungik', 'publisher': 'You-tube', 'ran_num': 118}\n",
      "{'_id': ObjectId('6177ade8da58bebab4511c2b'), 'author': 'Jungik', 'publisher': 'You-tube', 'ran_num': 100}\n",
      "{'_id': ObjectId('6177ade8da58bebab4511c2c'), 'author': 'Jungik', 'publisher': 'You-tube', 'ran_num': 117}\n",
      "{'_id': ObjectId('6177ade8da58bebab4511c2d'), 'author': 'Jungik', 'publisher': 'You-tube', 'ran_num': 106}\n",
      "{'_id': ObjectId('6177ade8da58bebab4511c2e'), 'author': 'Jungik', 'publisher': 'You-tube', 'ran_num': 108}\n",
      "{'_id': ObjectId('6177ade8da58bebab4511c2f'), 'author': 'Jungik', 'publisher': 'You-tube', 'ran_num': 118}\n",
      "{'_id': ObjectId('6177ade8da58bebab4511c30'), 'author': 'Jungik', 'publisher': 'You-tube', 'ran_num': 114}\n",
      "{'_id': ObjectId('6177ade8da58bebab4511c31'), 'author': 'Jungik', 'publisher': 'You-tube', 'ran_num': 108}\n",
      "{'_id': ObjectId('6177ade8da58bebab4511c32'), 'author': 'Jungik', 'publisher': 'You-tube', 'ran_num': 114}\n",
      "{'_id': ObjectId('6177ade8da58bebab4511c33'), 'author': 'Jungik', 'publisher': 'You-tube', 'ran_num': 106}\n",
      "{'_id': ObjectId('6177ade8da58bebab4511c34'), 'author': 'Jungik', 'publisher': 'You-tube', 'ran_num': 116}\n",
      "{'_id': ObjectId('6177ade8da58bebab4511c35'), 'author': 'Jungik', 'publisher': 'You-tube', 'ran_num': 104}\n",
      "{'_id': ObjectId('6177ade8da58bebab4511c36'), 'author': 'Jungik', 'publisher': 'You-tube', 'ran_num': 104}\n",
      "{'_id': ObjectId('6177ade8da58bebab4511c37'), 'author': 'Jungik', 'publisher': 'You-tube', 'ran_num': 101}\n",
      "{'_id': ObjectId('6177ade8da58bebab4511c38'), 'author': 'Jungik', 'publisher': 'You-tube', 'ran_num': 118}\n",
      "{'_id': ObjectId('6177ade8da58bebab4511c39'), 'author': 'Jungik', 'publisher': 'You-tube', 'ran_num': 102}\n",
      "{'_id': ObjectId('6177ade8da58bebab4511c3a'), 'author': 'Jungik', 'publisher': 'You-tube', 'ran_num': 114}\n",
      "{'_id': ObjectId('6177ade8da58bebab4511c3b'), 'author': 'Jungik', 'publisher': 'You-tube', 'ran_num': 100}\n",
      "{'_id': ObjectId('6177ade8da58bebab4511c3c'), 'author': 'Jungik', 'publisher': 'You-tube', 'ran_num': 112}\n",
      "{'_id': ObjectId('6177ade8da58bebab4511c3d'), 'author': 'Jungik', 'publisher': 'You-tube', 'ran_num': 117}\n",
      "{'_id': ObjectId('6177ade8da58bebab4511c3e'), 'author': 'Jungik', 'publisher': 'You-tube', 'ran_num': 114}\n",
      "{'_id': ObjectId('6177ade8da58bebab4511c3f'), 'author': 'Jungik', 'publisher': 'You-tube', 'ran_num': 118}\n",
      "{'_id': ObjectId('6177ade8da58bebab4511c40'), 'author': 'Jungik', 'publisher': 'You-tube', 'ran_num': 104}\n",
      "{'_id': ObjectId('6177ade8da58bebab4511c41'), 'author': 'Jungik', 'publisher': 'You-tube', 'ran_num': 103}\n",
      "{'_id': ObjectId('6177ade8da58bebab4511c42'), 'author': 'Jungik', 'publisher': 'You-tube', 'ran_num': 102}\n",
      "{'_id': ObjectId('6177ade8da58bebab4511c43'), 'author': 'Jungik', 'publisher': 'You-tube', 'ran_num': 102}\n",
      "{'_id': ObjectId('6177ade8da58bebab4511c44'), 'author': 'Jungik', 'publisher': 'You-tube', 'ran_num': 100}\n",
      "{'_id': ObjectId('6177ade8da58bebab4511c45'), 'author': 'Jungik', 'publisher': 'You-tube', 'ran_num': 100}\n",
      "{'_id': ObjectId('6177ade8da58bebab4511c46'), 'author': 'Jungik', 'publisher': 'You-tube', 'ran_num': 111}\n",
      "{'_id': ObjectId('6177ade8da58bebab4511c47'), 'author': 'Jungik', 'publisher': 'You-tube', 'ran_num': 110}\n",
      "{'_id': ObjectId('6177ade8da58bebab4511c48'), 'author': 'Jungik', 'publisher': 'You-tube', 'ran_num': 111}\n",
      "{'_id': ObjectId('6177ade8da58bebab4511c49'), 'author': 'Jungik', 'publisher': 'You-tube', 'ran_num': 100}\n",
      "{'_id': ObjectId('6177ade8da58bebab4511c4a'), 'author': 'Jungik', 'publisher': 'You-tube', 'ran_num': 109}\n",
      "{'_id': ObjectId('6177ade8da58bebab4511c4b'), 'author': 'Jungik', 'publisher': 'You-tube', 'ran_num': 117}\n",
      "{'_id': ObjectId('6177ade8da58bebab4511c4c'), 'author': 'Jungik', 'publisher': 'You-tube', 'ran_num': 105}\n",
      "{'_id': ObjectId('6177ade8da58bebab4511c4d'), 'author': 'Jungik', 'publisher': 'You-tube', 'ran_num': 113}\n",
      "{'_id': ObjectId('6177ade8da58bebab4511c4e'), 'author': 'Jungik', 'publisher': 'You-tube', 'ran_num': 118}\n",
      "{'_id': ObjectId('6177ade8da58bebab4511c4f'), 'author': 'Jungik', 'publisher': 'You-tube', 'ran_num': 111}\n",
      "{'_id': ObjectId('6177ade8da58bebab4511c50'), 'author': 'Jungik', 'publisher': 'You-tube', 'ran_num': 101}\n",
      "{'_id': ObjectId('6177ade8da58bebab4511c51'), 'author': 'Jungik', 'publisher': 'You-tube', 'ran_num': 108}\n",
      "{'_id': ObjectId('6177ade8da58bebab4511c52'), 'author': 'Jungik', 'publisher': 'You-tube', 'ran_num': 104}\n",
      "{'_id': ObjectId('6177ade8da58bebab4511c53'), 'author': 'Jungik', 'publisher': 'You-tube', 'ran_num': 112}\n",
      "{'_id': ObjectId('6177ade8da58bebab4511c54'), 'author': 'Jungik', 'publisher': 'You-tube', 'ran_num': 104}\n",
      "{'_id': ObjectId('6177ade8da58bebab4511c55'), 'author': 'Jungik', 'publisher': 'You-tube', 'ran_num': 101}\n",
      "{'_id': ObjectId('6177ade8da58bebab4511c56'), 'author': 'Jungik', 'publisher': 'You-tube', 'ran_num': 102}\n",
      "{'_id': ObjectId('6177ade8da58bebab4511c57'), 'author': 'Jungik', 'publisher': 'You-tube', 'ran_num': 110}\n",
      "{'_id': ObjectId('6177ade8da58bebab4511c58'), 'author': 'Jungik', 'publisher': 'You-tube', 'ran_num': 102}\n",
      "{'_id': ObjectId('6177ade8da58bebab4511c59'), 'author': 'Jungik', 'publisher': 'You-tube', 'ran_num': 120}\n",
      "{'_id': ObjectId('6177ade8da58bebab4511c5a'), 'author': 'Jungik', 'publisher': 'You-tube', 'ran_num': 104}\n",
      "{'_id': ObjectId('6177ade8da58bebab4511c5b'), 'author': 'Jungik', 'publisher': 'You-tube', 'ran_num': 109}\n",
      "{'_id': ObjectId('6177ade8da58bebab4511c5c'), 'author': 'Jungik', 'publisher': 'You-tube', 'ran_num': 100}\n",
      "{'_id': ObjectId('6177ade8da58bebab4511c5d'), 'author': 'Jungik', 'publisher': 'You-tube', 'ran_num': 118}\n",
      "{'_id': ObjectId('6177ade8da58bebab4511c5e'), 'author': 'Jungik', 'publisher': 'You-tube', 'ran_num': 104}\n",
      "{'_id': ObjectId('6177ade8da58bebab4511c5f'), 'author': 'Jungik', 'publisher': 'You-tube', 'ran_num': 109}\n"
     ]
    }
   ],
   "source": [
    "docs = it_book.find()\n",
    "for doc in docs:\n",
    "    print(doc)"
   ]
  },
  {
   "cell_type": "code",
   "execution_count": 128,
   "metadata": {},
   "outputs": [
    {
     "data": {
      "text/plain": [
       "<pymongo.results.UpdateResult at 0x22f78736300>"
      ]
     },
     "execution_count": 128,
     "metadata": {},
     "output_type": "execute_result"
    }
   ],
   "source": [
    "it_book.update_many(\n",
    "    {\"ran_num\" : {\"$gt\":110}},\n",
    "    {\"$set\": {\"publisher\":\"Instagram\"}}\n",
    ")"
   ]
  },
  {
   "cell_type": "code",
   "execution_count": 135,
   "metadata": {},
   "outputs": [
    {
     "data": {
      "text/plain": [
       "<pymongo.results.DeleteResult at 0x22f7874c480>"
      ]
     },
     "execution_count": 135,
     "metadata": {},
     "output_type": "execute_result"
    }
   ],
   "source": [
    "it_book.delete_many(\n",
    "    {\n",
    "        \"ran_num\" : { \"$gt\": 115, \"$lt\": 113 }\n",
    "    }\n",
    ")"
   ]
  },
  {
   "cell_type": "code",
   "execution_count": 140,
   "metadata": {
    "scrolled": true
   },
   "outputs": [
    {
     "name": "stdout",
     "output_type": "stream",
     "text": [
      "{'_id': ObjectId('6177ade8da58bebab4511c0e'), 'author': 'Jungik', 'publisher': 'Instagram', 'ran_num': 112}\n",
      "{'_id': ObjectId('6177ade8da58bebab4511c3c'), 'author': 'Jungik', 'publisher': 'Instagram', 'ran_num': 112}\n",
      "{'_id': ObjectId('6177ade8da58bebab4511c53'), 'author': 'Jungik', 'publisher': 'Instagram', 'ran_num': 112}\n",
      "{'_id': ObjectId('6177ade8da58bebab4511c01'), 'author': 'Jungik', 'publisher': 'Instagram', 'ran_num': 113}\n",
      "{'_id': ObjectId('6177ade8da58bebab4511c11'), 'author': 'Jungik', 'publisher': 'Instagram', 'ran_num': 113}\n",
      "{'_id': ObjectId('6177ade8da58bebab4511c18'), 'author': 'Jungik', 'publisher': 'Instagram', 'ran_num': 113}\n",
      "{'_id': ObjectId('6177ade8da58bebab4511c4d'), 'author': 'Jungik', 'publisher': 'Instagram', 'ran_num': 113}\n",
      "{'_id': ObjectId('6177ade8da58bebab4511c04'), 'author': 'Jungik', 'publisher': 'Instagram', 'ran_num': 114}\n",
      "{'_id': ObjectId('6177ade8da58bebab4511c0b'), 'author': 'Jungik', 'publisher': 'Instagram', 'ran_num': 114}\n",
      "{'_id': ObjectId('6177ade8da58bebab4511c1c'), 'author': 'Jungik', 'publisher': 'Instagram', 'ran_num': 114}\n",
      "{'_id': ObjectId('6177ade8da58bebab4511c27'), 'author': 'Jungik', 'publisher': 'Instagram', 'ran_num': 114}\n",
      "{'_id': ObjectId('6177ade8da58bebab4511c30'), 'author': 'Jungik', 'publisher': 'Instagram', 'ran_num': 114}\n",
      "{'_id': ObjectId('6177ade8da58bebab4511c32'), 'author': 'Jungik', 'publisher': 'Instagram', 'ran_num': 114}\n",
      "{'_id': ObjectId('6177ade8da58bebab4511c3a'), 'author': 'Jungik', 'publisher': 'Instagram', 'ran_num': 114}\n",
      "{'_id': ObjectId('6177ade8da58bebab4511c3e'), 'author': 'Jungik', 'publisher': 'Instagram', 'ran_num': 114}\n",
      "{'_id': ObjectId('6177ade8da58bebab4511c00'), 'author': 'Jungik', 'publisher': 'Instagram', 'ran_num': 115}\n",
      "{'_id': ObjectId('6177ade8da58bebab4511c23'), 'author': 'Jungik', 'publisher': 'Instagram', 'ran_num': 115}\n",
      "{'_id': ObjectId('6177ade8da58bebab4511c29'), 'author': 'Jungik', 'publisher': 'Instagram', 'ran_num': 115}\n"
     ]
    }
   ],
   "source": [
    "docs = it_book.find().sort(\"ran_num\")\n",
    "for doc in docs:\n",
    "    print(doc)"
   ]
  },
  {
   "cell_type": "code",
   "execution_count": 139,
   "metadata": {},
   "outputs": [
    {
     "data": {
      "text/plain": [
       "18"
      ]
     },
     "execution_count": 139,
     "metadata": {},
     "output_type": "execute_result"
    }
   ],
   "source": [
    "it_book.count_documents({\"publisher\":\"Instagram\"})"
   ]
  }
 ],
 "metadata": {
  "kernelspec": {
   "display_name": "Python 3",
   "language": "python",
   "name": "python3"
  },
  "language_info": {
   "codemirror_mode": {
    "name": "ipython",
    "version": 3
   },
   "file_extension": ".py",
   "mimetype": "text/x-python",
   "name": "python",
   "nbconvert_exporter": "python",
   "pygments_lexer": "ipython3",
   "version": "3.8.5"
  }
 },
 "nbformat": 4,
 "nbformat_minor": 4
}
