{
 "cells": [
  {
   "cell_type": "markdown",
   "metadata": {},
   "source": [
    "<div class=\"alert alert-block alert-success\">\n",
    "<font color=\"blue\" size=\"4em\">Source</font><br>\n",
    "http://www.cine21.com/db/person\n",
    "</div>"
   ]
  },
  {
   "cell_type": "markdown",
   "metadata": {},
   "source": [
    "- Request URL: http://www.cine21.com/rank/person/content\n",
    "- Request Method: POST\n",
    "- Form Data\n",
    "- section:actor\n",
    "- period_start:2021-04\n",
    "- gender:all\n",
    "- page:1"
   ]
  },
  {
   "cell_type": "code",
   "execution_count": 12,
   "metadata": {},
   "outputs": [],
   "source": [
    "from bs4 import BeautifulSoup\n",
    "import requests\n",
    "import pymongo\n",
    "import re"
   ]
  },
  {
   "cell_type": "markdown",
   "metadata": {},
   "source": [
    "### MongoDB connection"
   ]
  },
  {
   "cell_type": "code",
   "execution_count": 3,
   "metadata": {},
   "outputs": [],
   "source": [
    "conn = pymongo.MongoClient()\n",
    "actor_db = conn.cine21\n",
    "actor_collection = actor_db.actor_collection"
   ]
  },
  {
   "cell_type": "markdown",
   "metadata": {},
   "source": [
    "### 크롤링 주소 requests"
   ]
  },
  {
   "cell_type": "code",
   "execution_count": 7,
   "metadata": {},
   "outputs": [],
   "source": [
    "cine21_url = \"http://www.cine21.com/rank/person/content\"\n",
    "post_data = dict()\n",
    "post_data['section'] = 'actor'\n",
    "post_data['period_start'] = '2020-10'\n",
    "post_data['gender'] = 'all'\n",
    "post_data['page'] = 1\n",
    "\n",
    "res = requests.post(cine21_url, data=post_data)"
   ]
  },
  {
   "cell_type": "markdown",
   "metadata": {},
   "source": [
    "### parsing과 데이터 추출"
   ]
  },
  {
   "cell_type": "code",
   "execution_count": 8,
   "metadata": {},
   "outputs": [],
   "source": [
    "soup = BeautifulSoup(res.content, 'html.parser')"
   ]
  },
  {
   "cell_type": "code",
   "execution_count": 17,
   "metadata": {},
   "outputs": [
    {
     "name": "stdout",
     "output_type": "stream",
     "text": [
      "조우진\n",
      "김윤석\n",
      "조인성\n",
      "성동일\n",
      "이제훈\n",
      "허준호\n",
      "김소진\n"
     ]
    }
   ],
   "source": [
    "actors = soup.select('li.people_li div.name')\n",
    "for actor in actors:\n",
    "    print(re.sub('\\(\\w+\\)', '', actor.text))"
   ]
  },
  {
   "cell_type": "code",
   "execution_count": 71,
   "metadata": {},
   "outputs": [
    {
     "data": {
      "text/plain": [
       "[{'배우이름': '조우진',\n",
       "  '흥행지수': 41982,\n",
       "  '출연영화': ['발신제한', '도굴', '서복', '국가부도의 날', '봉오동 전투', '강철비'],\n",
       "  '다른 이름': '조신제',\n",
       "  '직업': '배우',\n",
       "  '생년월일': '1979-01-16',\n",
       "  '성별': '남'},\n",
       " {'배우이름': '김윤석',\n",
       "  '흥행지수': 37394,\n",
       "  '출연영화': ['모가디슈', '당신, 거기 있어줄래요', '화이 : 괴물을 삼킨 아이', '1987', '도둑들'],\n",
       "  '직업': '배우',\n",
       "  '생년월일': '1968-01-21',\n",
       "  '성별': '남',\n",
       "  '신장/체중': '178cm, 68kg',\n",
       "  '학교': '동의대학교 학사',\n",
       "  '취미': '여행, 낚시',\n",
       "  '소속사': '심엔터테인먼트'},\n",
       " {'배우이름': '조인성',\n",
       "  '흥행지수': 32750,\n",
       "  '출연영화': ['모가디슈', '클래식'],\n",
       "  '다른 이름': '趙寅成',\n",
       "  '직업': '배우',\n",
       "  '생년월일': '1981-07-28',\n",
       "  '성별': '남',\n",
       "  '신장/체중': '186cm, 72kg',\n",
       "  '학교': '전남과학대 모델이벤트과 - 동국대 연극영화 (중퇴)',\n",
       "  '취미': '모자모으기, 영화보기, 농구',\n",
       "  '특기': '농구, 태권도(공인 4단)',\n",
       "  '소속사': '싸이더스 HQ'},\n",
       " {'배우이름': '성동일',\n",
       "  '흥행지수': 30742,\n",
       "  '출연영화': ['담보', '수상한 그녀'],\n",
       "  '직업': '배우',\n",
       "  '생년월일': '1967-04-27',\n",
       "  '성별': '남',\n",
       "  '신장/체중': '177cm, 78kg',\n",
       "  '학교': '유한대학 기계설계학'},\n",
       " {'배우이름': '이제훈',\n",
       "  '흥행지수': 30681,\n",
       "  '출연영화': ['도굴', '사냥의 시간', '건축학개론', '아이 캔 스피크', '파수꾼', '박열'],\n",
       "  '직업': '배우',\n",
       "  '생년월일': '1984-07-04',\n",
       "  '성별': '남',\n",
       "  '홈페이지': '\\nhttps://www.facebook.com/saram.leejehoon\\n',\n",
       "  '신장/체중': '176cm',\n",
       "  '학교': '한국예술종합학교 연극원 연기과',\n",
       "  '특기': '댄스, 노래, 무술',\n",
       "  '소속사': '㈜사람엔터테인먼트'},\n",
       " {'배우이름': '허준호',\n",
       "  '흥행지수': 28047,\n",
       "  '출연영화': ['모가디슈', '천문: 하늘에 묻는다', '국가부도의 날'],\n",
       "  '원어명': '許俊豪',\n",
       "  '직업': '배우',\n",
       "  '생년월일': '1964-03-03',\n",
       "  '성별': '남',\n",
       "  '신장/체중': '180cm, 75kg',\n",
       "  '학교': '서울예술대학 연극과',\n",
       "  '취미': '만화책 보기',\n",
       "  '특기': '야구, 농구',\n",
       "  '소속사': '지티비엔터테인먼트'},\n",
       " {'배우이름': '김소진',\n",
       "  '흥행지수': 23382,\n",
       "  '출연영화': ['모가디슈', '스프링 송', '아이 캔 스피크', '남산의 부장들'],\n",
       "  '직업': '배우',\n",
       "  '성별': '여'}]"
      ]
     },
     "execution_count": 71,
     "metadata": {},
     "output_type": "execute_result"
    }
   ],
   "source": [
    "actor_info_list = list()\n",
    "\n",
    "actors = soup.select('li.people_li div.name')\n",
    "hits = soup.select('ul.num_info > li > strong')\n",
    "movies = soup.select('ul.mov_list')\n",
    "\n",
    "\n",
    "for idx, actor in enumerate(actors):    \n",
    "    \n",
    "    \n",
    "    actor_name = re.sub('\\(\\w+\\)', '', actor.text)\n",
    "    actor_hits = int(hits[idx].text.replace(',',''))\n",
    "    movie_titles = movies[idx].select('li a span')\n",
    "    movie_list = []\n",
    "    for movie_title in movie_titles:\n",
    "        movie_list.append(movie_title.text)\n",
    "    \n",
    "    actor_link = 'http://www.cine21.com/' + actor.select_one('a')['href']\n",
    "    response_actor = requests.get(actor_link)\n",
    "    soup_actor = BeautifulSoup(response_actor.content, 'html.parser')\n",
    "    default_info = soup_actor.select_one('ul.default_info')\n",
    "    actor_details = default_info.select('li')\n",
    "    \n",
    "    actor_info_dict = dict()\n",
    "    actor_info_dict['배우이름'] = actor_name\n",
    "    actor_info_dict['흥행지수'] = actor_hits\n",
    "    actor_info_dict['출연영화'] = movie_list\n",
    "    \n",
    "    for actor_item in actor_details:\n",
    "        actor_item_field = actor_item.select_one('span.tit').text\n",
    "        actor_item_value = re.sub('<span.*?>.*?</span>', '', str(actor_item))\n",
    "        actor_item_value = re.sub('<.*?>', '', actor_item_value)\n",
    "        actor_info_dict[actor_item_field] = actor_item_value\n",
    "        \n",
    "    actor_info_list.append(actor_info_dict)\n",
    "\n",
    "actor_info_list"
   ]
  },
  {
   "cell_type": "markdown",
   "metadata": {},
   "source": [
    "### 배우 정보 추출 및 몽고DB 저장"
   ]
  },
  {
   "cell_type": "code",
   "execution_count": 82,
   "metadata": {},
   "outputs": [
    {
     "data": {
      "text/plain": [
       "<pymongo.results.InsertManyResult at 0x1c9b33c9f40>"
      ]
     },
     "execution_count": 82,
     "metadata": {},
     "output_type": "execute_result"
    }
   ],
   "source": [
    "from bs4 import BeautifulSoup\n",
    "import requests\n",
    "import pymongo\n",
    "import re\n",
    "\n",
    "conn = pymongo.MongoClient()\n",
    "actor_db = conn.cine21\n",
    "actor_collection = actor_db.actor_collection\n",
    "\n",
    "\n",
    "\n",
    "actor_info_list = list()\n",
    "\n",
    "cine21_url = \"http://www.cine21.com/rank/person/content\"\n",
    "post_data = dict()\n",
    "post_data['section'] = 'actor'\n",
    "post_data['period_start'] = '2020-10'\n",
    "post_data['gender'] = 'all'\n",
    "\n",
    "for i in range(1, 21):\n",
    "    post_data['page'] = i\n",
    "\n",
    "    res = requests.post(cine21_url, data=post_data)\n",
    "    soup = BeautifulSoup(res.content, 'html.parser')\n",
    "\n",
    "\n",
    "\n",
    "    actors = soup.select('li.people_li div.name')\n",
    "    hits = soup.select('ul.num_info > li > strong')\n",
    "    movies = soup.select('ul.mov_list')\n",
    "    rankings = soup.select('li.people_li > span.grade')\n",
    "\n",
    "    for idx, actor in enumerate(actors):    \n",
    "        actor_name = re.sub('\\(\\w+\\)', '', actor.text)\n",
    "        actor_hits = int(hits[idx].text.replace(',',''))\n",
    "        movie_titles = movies[idx].select('li a span')\n",
    "        movie_list = []\n",
    "        for movie_title in movie_titles:\n",
    "            movie_list.append(movie_title.text)\n",
    "\n",
    "        actor_link = 'http://www.cine21.com/' + actor.select_one('a')['href']\n",
    "        response_actor = requests.get(actor_link)\n",
    "        soup_actor = BeautifulSoup(response_actor.content, 'html.parser')\n",
    "        default_info = soup_actor.select_one('ul.default_info')\n",
    "        actor_details = default_info.select('li')\n",
    "\n",
    "        actor_info_dict = dict()\n",
    "        actor_info_dict['배우이름'] = actor_name\n",
    "        actor_info_dict['흥행지수'] = actor_hits\n",
    "        actor_info_dict['출연영화'] = movie_list\n",
    "        actor_info_dict['랭킹'] = rankings[idx].text\n",
    "\n",
    "        for actor_item in actor_details:\n",
    "            actor_item_field = actor_item.select_one('span.tit').text\n",
    "            actor_item_value = re.sub('<span.*?>.*?</span>', '', str(actor_item))\n",
    "            actor_item_value = re.sub('<.*?>', '', actor_item_value)\n",
    "            actor_info_dict[actor_item_field] = actor_item_value\n",
    "\n",
    "        actor_info_list.append(actor_info_dict)\n",
    "\n",
    "actor_collection.insert_many(actor_info_list)"
   ]
  },
  {
   "cell_type": "code",
   "execution_count": null,
   "metadata": {},
   "outputs": [],
   "source": []
  }
 ],
 "metadata": {
  "kernelspec": {
   "display_name": "Python 3",
   "language": "python",
   "name": "python3"
  },
  "language_info": {
   "codemirror_mode": {
    "name": "ipython",
    "version": 3
   },
   "file_extension": ".py",
   "mimetype": "text/x-python",
   "name": "python",
   "nbconvert_exporter": "python",
   "pygments_lexer": "ipython3",
   "version": "3.8.5"
  }
 },
 "nbformat": 4,
 "nbformat_minor": 4
}
